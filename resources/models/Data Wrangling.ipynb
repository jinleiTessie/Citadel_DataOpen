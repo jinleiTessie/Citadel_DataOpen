{
 "cells": [
  {
   "cell_type": "markdown",
   "metadata": {},
   "source": [
    "# regex"
   ]
  },
  {
   "cell_type": "code",
   "execution_count": 37,
   "metadata": {},
   "outputs": [],
   "source": [
    "import re\n",
    "\n",
    "word='\\w+'\n",
    "sentence='There is my sentence.'"
   ]
  },
  {
   "cell_type": "code",
   "execution_count": 24,
   "metadata": {},
   "outputs": [
    {
     "data": {
      "text/plain": [
       "['Here', 'is', 'my', 'sentence']"
      ]
     },
     "execution_count": 24,
     "metadata": {},
     "output_type": "execute_result"
    }
   ],
   "source": [
    "re.findall(word,sentence)"
   ]
  },
  {
   "cell_type": "code",
   "execution_count": 32,
   "metadata": {},
   "outputs": [
    {
     "data": {
      "text/plain": [
       "<re.Match object; span=(0, 5), match='There'>"
      ]
     },
     "execution_count": 32,
     "metadata": {},
     "output_type": "execute_result"
    }
   ],
   "source": [
    "search_result=re.search(word,sentence)\n",
    "search_result\n",
    "#search method allows us to search for a match throughout the string.\n",
    "#if a match is found, a match object is returned."
   ]
  },
  {
   "cell_type": "code",
   "execution_count": 33,
   "metadata": {},
   "outputs": [
    {
     "data": {
      "text/plain": [
       "'There'"
      ]
     },
     "execution_count": 33,
     "metadata": {},
     "output_type": "execute_result"
    }
   ],
   "source": [
    "search_result.group()\n",
    "#group method returned the matched string"
   ]
  },
  {
   "cell_type": "code",
   "execution_count": 36,
   "metadata": {},
   "outputs": [
    {
     "data": {
      "text/plain": [
       "'There'"
      ]
     },
     "execution_count": 36,
     "metadata": {},
     "output_type": "execute_result"
    }
   ],
   "source": [
    "match_result=re.match(word,sentence)\n",
    "match_result.group()\n",
    "# match method searches only from the beginning of the string."
   ]
  },
  {
   "cell_type": "code",
   "execution_count": 42,
   "metadata": {},
   "outputs": [
    {
     "name": "stdout",
     "output_type": "stream",
     "text": [
      "2\n",
      "Bear\n"
     ]
    },
    {
     "ename": "AttributeError",
     "evalue": "'NoneType' object has no attribute 'group'",
     "output_type": "error",
     "traceback": [
      "\u001b[1;31m---------------------------------------------------------------------------\u001b[0m",
      "\u001b[1;31mAttributeError\u001b[0m                            Traceback (most recent call last)",
      "\u001b[1;32m<ipython-input-42-fa76c9e455e7>\u001b[0m in \u001b[0;36m<module>\u001b[1;34m\u001b[0m\n\u001b[0;32m     13\u001b[0m \u001b[1;33m\u001b[0m\u001b[0m\n\u001b[0;32m     14\u001b[0m \u001b[0mmatch_capital\u001b[0m\u001b[1;33m=\u001b[0m\u001b[0mre\u001b[0m\u001b[1;33m.\u001b[0m\u001b[0mmatch\u001b[0m\u001b[1;33m(\u001b[0m\u001b[0mcapitalized_word\u001b[0m\u001b[1;33m,\u001b[0m\u001b[0msentence\u001b[0m\u001b[1;33m)\u001b[0m\u001b[1;33m\u001b[0m\u001b[1;33m\u001b[0m\u001b[0m\n\u001b[1;32m---> 15\u001b[1;33m \u001b[0mprint\u001b[0m\u001b[1;33m(\u001b[0m\u001b[0mmatch_capital\u001b[0m\u001b[1;33m.\u001b[0m\u001b[0mgroup\u001b[0m\u001b[1;33m(\u001b[0m\u001b[1;33m)\u001b[0m\u001b[1;33m)\u001b[0m\u001b[1;33m\u001b[0m\u001b[1;33m\u001b[0m\u001b[0m\n\u001b[0m",
      "\u001b[1;31mAttributeError\u001b[0m: 'NoneType' object has no attribute 'group'"
     ]
    }
   ],
   "source": [
    "number='\\d+'\n",
    "capitalized_word='[A-Z]\\w+'\n",
    "sentence='I have 2 pets: Bear and Bunny'\n",
    "\n",
    "search_number=re.search(number,sentence)\n",
    "print(search_number.group())\n",
    "\n",
    "match_number=re.match(number,sentence)\n",
    "#print(match_number.group())\n",
    "\n",
    "search_capital=re.search(capitalized_word,sentence)\n",
    "print(search_capital.group())\n",
    "\n",
    "match_capital=re.match(capitalized_word,sentence)\n",
    "print(match_capital.group())"
   ]
  },
  {
   "cell_type": "markdown",
   "metadata": {},
   "source": [
    "# Data Exploration"
   ]
  },
  {
   "cell_type": "code",
   "execution_count": 46,
   "metadata": {},
   "outputs": [],
   "source": [
    "import xlrd\n",
    "import agate"
   ]
  },
  {
   "cell_type": "code",
   "execution_count": 50,
   "metadata": {},
   "outputs": [
    {
     "data": {
      "text/plain": [
       "['Child labour  ']"
      ]
     },
     "execution_count": 50,
     "metadata": {},
     "output_type": "execute_result"
    }
   ],
   "source": [
    "workbook=xlrd.open_workbook('unicef_oct_2014.xls')\n",
    "workbook.nsheets\n",
    "workbook.sheet_names()"
   ]
  },
  {
   "cell_type": "code",
   "execution_count": 51,
   "metadata": {},
   "outputs": [
    {
     "data": {
      "text/plain": [
       "134"
      ]
     },
     "execution_count": 51,
     "metadata": {},
     "output_type": "execute_result"
    }
   ],
   "source": [
    "sheet=workbook.sheets()[0]\n",
    "sheet.nrows"
   ]
  },
  {
   "cell_type": "code",
   "execution_count": 52,
   "metadata": {},
   "outputs": [
    {
     "data": {
      "text/plain": [
       "['UNICEF global databases', '', '', '', '', '', '', '', '', '', '', '', '', '']"
      ]
     },
     "execution_count": 52,
     "metadata": {},
     "output_type": "execute_result"
    }
   ],
   "source": [
    "sheet.row_values(0)"
   ]
  },
  {
   "cell_type": "code",
   "execution_count": 54,
   "metadata": {},
   "outputs": [
    {
     "name": "stdout",
     "output_type": "stream",
     "text": [
      "0 [text:'UNICEF global databases', empty:'', empty:'', empty:'', empty:'', empty:'', empty:'', empty:'', empty:'', empty:'', empty:'', empty:'', empty:'', empty:'']\n",
      "1 [text:'Child labour', empty:'', empty:'', empty:'', empty:'', empty:'', empty:'', empty:'', empty:'', empty:'', empty:'', empty:'', empty:'', empty:'']\n",
      "2 [text:'Updated November 2014', empty:'', empty:'', empty:'', empty:'', empty:'', empty:'', empty:'', empty:'', empty:'', empty:'', empty:'', empty:'', empty:'']\n",
      "3 [empty:'', empty:'', empty:'', empty:'', empty:'', empty:'', empty:'', empty:'', empty:'', empty:'', empty:'', empty:'', empty:'', empty:'']\n",
      "4 [empty:'', text:'Total (%)', empty:'', text:'Sex (%)', empty:'', text:'Place of residence (%)', empty:'', text:'Household wealth quintile (%)', empty:'', empty:'', empty:'', empty:'', text:'Reference Year', text:'Data Source']\n",
      "5 [text:'Countries and areas', empty:'', empty:'', text:'Male', text:'Female', text:'Urban', text:'Rural', text:'Poorest', text:'Second', text:'Middle', text:'Fourth', text:'Richest', empty:'', empty:'']\n",
      "6 [text:'Afghanistan', number:10.3, empty:'', number:11.0, number:9.6, number:7.9, number:10.8, number:11.9, number:11.8, number:10.1, number:9.7, number:7.8, text:'2010-2011', text:'MICS']\n",
      "7 [text:'Albania', number:5.1, text:'y', number:6.2, number:3.9, text:'-', text:'-', text:'-', text:'-', text:'-', text:'-', text:'-', number:2010.0, text:'National Child Labour Survey']\n",
      "8 [text:'Algeria', number:4.7, text:'y', number:5.5, number:3.9, number:3.9, number:5.6, number:7.3, number:4.5, number:4.1, number:3.1, number:3.8, number:2006.0, text:'MICS']\n",
      "9 [text:'Angola', number:23.5, empty:'', number:22.1, number:24.8, text:'-', text:'-', text:'-', text:'-', text:'-', text:'-', text:'-', number:2001.0, text:'MICS']\n",
      "10 [text:'Argentina', number:4.4, empty:'', number:4.8, number:3.9, text:'-', text:'-', number:6.8, number:3.9, number:3.3, number:3.7, number:3.1, text:'2011/2012', text:'MICS']\n",
      "11 [text:'Armenia', number:3.9, empty:'', number:4.7, number:2.9, number:2.4, number:6.0, number:6.9, number:4.1, number:3.2, number:2.4, number:2.4, number:2010.0, text:'ARM_DHS _2010']\n",
      "12 [text:'Azerbaijan', number:6.5, text:'y', number:7.5, number:5.4, number:2.1, number:10.7, text:'-', text:'-', text:'-', text:'-', text:'-', number:2005.0, text:'Dayioglu, Meltem. 2007. Working children in Azerbaijan: An analysis of the 2005 child labour and labouring children surveys. State Statistical Committee of Azerbaijan and ILO']\n",
      "13 [text:'Bahrain', number:4.6, empty:'', number:6.3, number:3.0, text:'-', text:'-', text:'-', text:'-', text:'-', text:'-', text:'-', number:2000.0, text:'MICS']\n",
      "14 [text:'Bangladesh', number:12.8, empty:'', number:17.5, number:8.1, number:11.2, number:13.4, number:16.0, number:14.7, number:13.0, number:10.5, number:8.2, number:2006.0, text:'MICS']\n",
      "15 [text:'Belarus', number:1.4, empty:'', number:1.4, number:1.5, number:1.3, number:1.8, number:1.0, number:2.4, number:1.2, number:1.7, number:1.0, number:2012.0, text:'MICS']\n",
      "16 [text:'Belize', number:5.8, empty:'', number:6.7, number:5.0, number:3.2, number:7.4, number:8.4, number:8.4, number:4.9, number:2.8, number:3.1, number:2011.0, text:'MICS']\n",
      "17 [text:'Benin', number:15.3, empty:'', number:14.9, number:15.6, number:10.5, number:18.1, number:19.6, number:19.9, number:16.8, number:10.9, number:6.0, text:'2011-2012', text:'DHS']\n",
      "18 [text:'Bhutan', number:2.9, empty:'', number:2.6, number:3.1, number:1.7, number:3.3, number:4.5, number:3.2, number:2.2, number:2.4, number:2.2, number:2010.0, text:'MICS']\n",
      "19 [text:'Bolivia (Plurinational State of)', number:26.4, text:'y', number:28.2, number:24.4, number:15.1, number:64.6, text:'-', text:'-', text:'-', text:'-', text:'-', number:2008.0, text:'ETI']\n",
      "20 [text:'Bosnia and Herzegovina', number:5.3, empty:'', number:6.6, number:3.9, number:3.2, number:6.4, number:4.5, number:11.1, number:5.0, number:2.8, number:3.6, number:2006.0, text:'MICS']\n",
      "21 [text:'Botswana', number:9.0, text:'y', number:10.9, number:7.0, number:11.3, number:12.6, text:'-', text:'-', text:'-', text:'-', text:'-', text:'2005-2006', text:'Botswana Labour Force Survey']\n",
      "22 [text:'Brazil', number:8.3, text:'y', number:10.6, number:6.0, text:'-', text:'-', text:'-', text:'-', text:'-', text:'-', text:'-', number:2012.0, text:'IBGE PNAD']\n",
      "23 [text:'Burkina Faso', number:39.2, empty:'', number:42.3, number:36.0, number:17.3, number:44.0, number:48.0, number:44.6, number:42.5, number:37.9, number:18.1, number:2010.0, text:'DHS']\n",
      "24 [text:'Burundi', number:26.3, empty:'', number:25.5, number:27.1, number:14.5, number:27.4, number:26.8, number:28.0, number:28.4, number:26.8, number:21.1, number:2010.0, text:'DHS']\n",
      "25 [text:'Cabo Verde', number:6.4, text:'y', text:'-', text:'-', text:'-', text:'-', text:'-', text:'-', text:'-', text:'-', text:'-', number:2012.0, text:'Inquerito Multi-Objectivo Continuo (prelim)']\n",
      "26 [text:'Cambodia', number:18.3, text:'y', number:19.2, number:17.4, text:'-', text:'-', text:'-', text:'-', text:'-', text:'-', text:'-', number:2013.0, text:'CSES']\n",
      "27 [text:'Cameroon', number:41.7, empty:'', number:43.1, number:40.2, number:27.2, number:52.8, number:55.9, number:52.9, number:42.5, number:31.9, number:17.6, number:2011.0, text:'DHS']\n",
      "28 [text:'Central African Republic', number:28.5, empty:'', number:27.2, number:29.9, number:21.2, number:33.0, number:35.8, number:36.0, number:32.2, number:21.8, number:17.0, number:2010.0, text:'MICS']\n",
      "29 [text:'Chad', number:26.1, empty:'', number:24.5, number:27.8, number:23.6, number:26.8, number:27.0, number:26.1, number:28.4, number:27.2, number:21.5, number:2010.0, text:'MICS']\n",
      "30 [text:'Chile', number:6.6, text:'y', text:'-', text:'-', text:'-', text:'-', text:'-', text:'-', text:'-', text:'-', text:'-', number:2012.0, text:'EANNA']\n",
      "31 [text:'Colombia', number:9.7, text:'y', number:12.5, number:6.6, number:7.4, number:15.8, text:'-', text:'-', text:'-', text:'-', text:'-', number:2013.0, text:'ENTI']\n",
      "32 [text:'Comoros', number:22.0, empty:'', number:20.2, number:23.8, number:16.5, number:24.3, number:29.6, number:25.1, number:20.8, number:18.4, number:10.8, number:2012.0, text:'DHS']\n",
      "33 [text:'Congo', number:18.4, empty:'', number:17.7, number:19.0, number:13.5, number:25.7, number:29.1, number:21.9, number:13.4, number:15.9, number:9.5, text:'2011-2012', text:'DHS']\n",
      "34 [text:'Costa Rica', number:4.1, empty:'', number:3.5, number:4.6, number:4.0, number:4.2, number:6.2, number:3.0, number:2.2, number:4.7, number:3.6, number:2011.0, text:'MICS']\n",
      "35 [text:\"Côte d'Ivoire\", number:26.4, empty:'', number:25.4, number:27.5, number:15.6, number:33.9, number:36.9, number:30.2, number:30.3, number:20.4, number:12.5, text:'2011-2012', text:'DHS']\n",
      "36 [text:'Democratic Republic of the Congo', number:15.0, empty:'', number:13.1, number:16.8, number:10.3, number:16.9, number:16.3, number:16.2, number:15.9, number:16.9, number:9.2, number:2010.0, text:'MICS']\n",
      "37 [text:'Djibouti', number:7.7, empty:'', number:7.6, number:7.7, number:7.6, number:9.7, text:'-', text:'-', text:'-', text:'-', text:'-', number:2006.0, text:'MICS']\n",
      "38 [text:'Dominican Republic', number:12.9, empty:'', number:17.5, number:7.9, number:10.6, number:17.1, number:18.5, number:17.6, number:10.4, number:10.1, number:5.1, text:'2009-2010', text:'ENHOGAR']\n",
      "39 [text:'Ecuador', number:8.6, text:'y', text:'-', text:'-', number:4.3, number:15.5, text:'-', text:'-', text:'-', text:'-', text:'-', number:2012.0, text:'ENTI']\n",
      "40 [text:'Egypt', number:9.3, text:'y', number:14.3, number:4.0, text:'-', text:'-', text:'-', text:'-', text:'-', text:'-', text:'-', number:2010.0, text:'National Child Labour Survey']\n",
      "41 [text:'El Salvador', number:8.5, text:'y', number:12.7, number:4.2, number:5.7, number:12.4, number:8.2, number:6.7, number:8.1, number:9.9, number:9.3, number:2013.0, text:'EHPM']\n",
      "42 [text:'Equatorial Guinea', number:27.8, empty:'', number:27.9, number:27.6, text:'-', text:'-', text:'-', text:'-', text:'-', text:'-', text:'-', number:2000.0, text:'MICS']\n",
      "43 [text:'Ethiopia', number:27.4, empty:'', number:31.1, number:23.5, number:13.3, number:29.7, number:31.3, number:30.8, number:30.2, number:27.0, number:14.7, number:2011.0, text:'DHS']\n",
      "44 [text:'Gabon', number:13.4, empty:'', number:15.4, number:11.6, number:11.0, number:26.6, number:26.4, number:12.5, number:12.3, number:7.9, number:7.5, number:2012.0, text:'DHS']\n",
      "45 [text:'Gambia', number:19.2, empty:'', number:20.9, number:17.5, number:9.5, number:26.0, number:28.1, number:20.7, number:18.8, number:16.6, number:8.6, number:2010.0, text:'MICS']\n",
      "46 [text:'Georgia', number:18.4, empty:'', number:20.0, number:16.6, number:16.1, number:20.4, number:17.8, number:21.5, number:19.7, number:17.8, number:15.0, number:2005.0, text:'MICS']\n",
      "47 [text:'Ghana', number:33.9, empty:'', number:33.8, number:34.0, number:19.7, number:42.5, number:47.9, number:46.1, number:30.8, number:24.0, number:13.7, number:2006.0, text:'MICS']\n",
      "48 [text:'Guatemala', number:25.8, text:'y', number:35.1, number:16.1, number:20.7, number:32.6, text:'-', text:'-', text:'-', text:'-', text:'-', number:2012.0, text:'ENEI']\n",
      "49 [text:'Guinea', number:28.3, empty:'', number:29.2, number:27.4, number:11.9, number:35.2, number:40.0, number:34.3, number:32.3, number:22.6, number:8.8, number:2012.0, text:'DHS']\n",
      "50 [text:'Guinea-Bissau', number:38.0, empty:'', number:39.5, number:36.4, number:23.0, number:47.6, number:50.7, number:48.7, number:41.7, number:23.4, number:15.4, number:2010.0, text:'MICS']\n",
      "51 [text:'Guyana', number:16.4, empty:'', number:17.3, number:15.5, number:9.0, number:19.0, number:29.4, number:17.3, number:13.1, number:11.5, number:3.9, number:2006.0, text:'MICS']\n",
      "52 [text:'Haiti', number:24.4, empty:'', number:24.5, number:24.3, number:15.8, number:29.2, number:33.7, number:29.9, number:23.8, number:18.5, number:10.6, number:2012.0, text:'DHS']\n",
      "53 [text:'Honduras', number:14.0, text:'y', number:22.1, number:5.9, number:9.1, number:17.1, text:'-', text:'-', text:'-', text:'-', text:'-', number:2013.0, text:'Encuesta Permanente de Hogares de Propositos Multiples, UCW calculations']\n",
      "54 [text:'India', number:11.8, empty:'', number:11.6, number:11.9, number:8.6, number:12.9, number:14.2, number:14.0, number:12.2, number:9.3, number:6.4, text:'2005-2006', text:'NFHS']\n",
      "55 [text:'Indonesia', number:6.9, text:'y', number:7.9, number:5.8, text:'-', text:'-', text:'-', text:'-', text:'-', text:'-', text:'-', number:2009.0, text:' Indonesia Child Labour Survey']\n",
      "56 [text:'Iran (Islamic Republic of)', number:11.4, text:'y', number:12.5, number:10.2, number:9.5, number:15.0, text:'-', text:'-', text:'-', text:'-', text:'-', number:2010.0, text:'MIDHS']\n",
      "57 [text:'Iraq', number:4.7, empty:'', number:5.4, number:4.0, number:3.3, number:7.6, number:7.9, number:5.0, number:3.7, number:3.8, number:1.8, number:2011.0, text:'MICS']\n",
      "58 [text:'Jamaica', number:3.3, empty:'', number:3.5, number:3.2, number:3.9, number:2.7, number:4.4, number:4.7, number:2.2, number:3.1, number:1.6, number:2011.0, text:'MICS']\n",
      "59 [text:'Jordan', number:1.6, text:'y', number:2.8, number:0.3, text:'-', text:'-', text:'-', text:'-', text:'-', text:'-', text:'-', number:2007.0, text:'Child Labour Survey']\n",
      "60 [text:'Kazakhstan', number:2.2, empty:'', number:2.4, number:2.1, number:2.5, number:1.9, number:1.8, number:2.1, number:2.8, number:2.4, number:2.2, number:2006.0, text:'MICS']\n",
      "61 [text:'Kenya', number:25.9, empty:'', number:26.5, number:25.2, text:'-', text:'-', text:'-', text:'-', text:'-', text:'-', text:'-', number:2000.0, text:'MICS']\n",
      "62 [text:'Kyrgyzstan', number:3.6, empty:'', number:4.3, number:2.9, number:1.9, number:4.5, number:1.9, number:3.7, number:4.7, number:5.0, number:2.8, number:2006.0, text:'MICS']\n",
      "63 [text:\"Lao People's Democratic Republic\", number:10.1, text:'y', number:9.0, number:11.2, text:'-', text:'-', text:'-', text:'-', text:'-', text:'-', text:'-', number:2010.0, text:'National Child Labour Survey ']\n",
      "64 [text:'Lebanon', number:1.9, empty:'', number:2.7, number:0.9, text:'-', text:'-', text:'-', text:'-', text:'-', text:'-', text:'-', number:2009.0, text:'MICS']\n",
      "65 [text:'Lesotho', number:22.9, empty:'', number:25.0, number:20.7, text:'-', text:'-', text:'-', text:'-', text:'-', text:'-', text:'-', number:2000.0, text:'MICS']\n",
      "66 [text:'Liberia', number:20.8, empty:'', number:21.1, number:20.5, number:15.7, number:24.0, number:26.9, number:25.3, number:21.2, number:18.4, number:13.5, number:2007.0, text:'DHS']\n",
      "67 [text:'Madagascar', number:22.9, text:'y', number:23.2, number:22.6, number:15.2, number:24.6, number:27.0, number:25.9, number:23.6, number:20.8, number:13.4, text:'2012-2013', text:'ENSOMD']\n",
      "68 [text:'Malawi', number:25.7, empty:'', number:25.3, number:26.2, number:13.9, number:27.7, number:26.3, number:29.8, number:29.3, number:26.2, number:18.0, number:2006.0, text:'MICS']\n",
      "69 [text:'Mali', number:21.4, empty:'', number:22.0, number:20.7, number:17.7, number:22.6, number:21.1, number:23.5, number:22.8, number:21.4, number:17.2, number:2010.0, text:'MICS']\n",
      "70 [text:'Mauritania', number:14.6, empty:'', number:14.3, number:14.9, number:7.5, number:16.6, number:25.3, number:18.3, number:10.9, number:8.6, number:4.8, number:2011.0, text:'MICS']\n",
      "71 [text:'Mexico', number:6.3, text:'y', number:7.3, number:5.3, number:5.1, number:8.0, text:'-', text:'-', text:'-', text:'-', text:'-', number:2011.0, text:'Modulo de Trabajo Infantil de la ENOE']\n",
      "72 [text:'Mongolia', number:10.4, empty:'', number:10.3, number:10.6, number:8.8, number:16.0, number:14.9, number:11.9, number:11.4, number:8.8, number:3.1, number:2010.0, text:'MICS']\n",
      "73 [text:'Montenegro', number:9.9, empty:'', number:11.7, number:7.8, number:5.5, number:16.5, number:23.7, number:8.7, number:4.8, number:6.4, number:3.2, number:2005.0, text:'MICS']\n",
      "74 [text:'Morocco', number:8.3, empty:'', number:9.1, number:7.5, number:3.5, number:13.3, number:17.7, number:9.6, number:5.0, number:3.2, number:1.9, text:'2006-2007', text:'ENIMSJ']\n",
      "75 [text:'Mozambique', number:22.2, empty:'', number:20.5, number:23.8, number:15.1, number:25.3, number:24.0, number:22.8, number:25.4, number:23.6, number:14.3, number:2008.0, text:'MICS']\n",
      "76 [text:'Nepal', number:33.9, text:'y', number:30.2, number:37.8, number:14.4, number:36.7, text:'-', text:'-', text:'-', text:'-', text:'-', number:2008.0, text:'Nepal Labour Force Survey']\n",
      "77 [text:'Nicaragua', number:14.5, empty:'', number:17.6, number:11.2, text:'-', text:'-', text:'-', text:'-', text:'-', text:'-', text:'-', number:2001.0, text:'DHS']\n",
      "78 [text:'Niger', number:30.5, empty:'', number:30.8, number:30.1, number:18.1, number:32.6, number:28.8, number:33.3, number:32.9, number:33.6, number:23.0, number:2012.0, text:'DHS']\n",
      "79 [text:'Nigeria', number:24.7, empty:'', number:24.1, number:25.3, number:18.7, number:27.6, number:28.5, number:28.2, number:25.3, number:22.3, number:17.8, number:2011.0, text:'MICS']\n",
      "80 [text:'Panama', number:5.6, text:'y', number:8.0, number:3.0, number:2.5, number:8.6, text:'-', text:'-', text:'-', text:'-', text:'-', number:2012.0, text:'ETI']\n",
      "81 [text:'Paraguay', number:27.6, text:'y', number:31.8, number:23.5, number:20.2, number:36.7, number:29.6, number:29.0, number:28.5, number:25.1, number:23.7, number:2011.0, text:'EANA']\n",
      "82 [text:'Peru', number:33.5, text:'y', number:30.6, number:36.3, number:18.2, number:60.9, text:'-', text:'-', text:'-', text:'-', text:'-', number:2007.0, text:'ESTI']\n",
      "83 [text:'Philippines', number:11.1, text:'y', number:14.1, number:7.9, text:'-', text:'-', text:'-', text:'-', text:'-', text:'-', text:'-', number:2011.0, text:'Survey on Children (prelim)']\n",
      "84 [text:'Portugal', number:3.4, text:'y', number:4.2, number:2.5, text:'-', text:'-', text:'-', text:'-', text:'-', text:'-', text:'-', number:2001.0, text:'Labour Force Survey, UCW calculations']\n",
      "85 [text:'Republic of Moldova', number:16.3, empty:'', number:20.2, number:12.3, text:'-', text:'-', text:'-', text:'-', text:'-', text:'-', text:'-', number:2009.0, text:\"Children''s Activities Survey\"]\n",
      "86 [text:'Romania', number:0.9, empty:'', number:1.2, number:0.7, text:'-', text:'-', text:'-', text:'-', text:'-', text:'-', text:'-', number:2000.0, text:'Household Labour Force Survey, UCW calculations']\n",
      "87 [text:'Rwanda', number:28.5, empty:'', number:26.7, number:30.4, number:18.7, number:29.8, number:33.3, number:30.9, number:29.4, number:29.4, number:18.3, number:2010.0, text:'DHS']\n",
      "88 [text:'Saint Lucia', number:3.9, empty:'', number:4.9, number:2.9, number:3.8, number:3.9, text:'-', text:'-', text:'-', text:'-', text:'-', number:2012.0, text:'MICS']\n",
      "89 [text:'Sao Tome and Principe', number:7.5, empty:'', number:7.7, number:7.2, number:5.7, number:9.7, number:8.3, number:9.4, number:8.8, number:6.7, number:3.9, number:2006.0, text:'MICS']\n",
      "90 [text:'Senegal', number:14.5, empty:'', number:19.0, number:10.0, number:5.1, number:19.8, number:29.7, number:18.8, number:8.8, number:6.3, number:4.5, text:'2012-2013', text:'Continuous DHS']\n",
      "91 [text:'Serbia', number:4.4, empty:'', number:4.5, number:4.4, number:3.3, number:5.7, number:8.4, number:5.5, number:2.9, number:2.7, number:2.6, number:2005.0, text:'MICS']\n",
      "92 [text:'Sierra Leone', number:26.0, empty:'', number:27.0, number:25.0, number:18.2, number:29.3, number:29.4, number:32.7, number:30.8, number:24.3, number:11.3, number:2010.0, text:'MICS']\n",
      "93 [text:'Somalia', number:49.0, empty:'', number:44.5, number:53.6, number:36.1, number:56.6, number:62.1, number:59.9, number:50.7, number:39.0, number:31.5, number:2006.0, text:'MICS']\n",
      "94 [text:'State of Palestine', number:5.7, empty:'', number:7.4, number:4.0, number:4.8, number:10.1, number:8.0, number:5.2, number:5.2, number:5.2, number:4.8, number:2010.0, text:'MICS']\n",
      "95 [text:'Suriname', number:4.1, empty:'', number:4.1, number:4.1, number:2.5, number:6.9, number:7.9, number:2.7, number:3.5, number:2.1, number:1.6, number:2010.0, text:'MICS']\n",
      "96 [text:'Swaziland', number:7.3, empty:'', number:7.7, number:6.9, number:6.6, number:7.5, number:9.9, number:6.9, number:8.1, number:5.4, number:5.2, number:2010.0, text:'MICS']\n",
      "97 [text:'Syrian Arab Republic', number:4.0, empty:'', number:5.0, number:3.0, number:2.6, number:5.5, number:6.7, number:5.2, number:3.3, number:2.9, number:1.6, number:2006.0, text:'MICS']\n",
      "98 [text:'Tajikistan', number:10.0, empty:'', number:9.4, number:10.6, number:8.1, number:10.6, number:13.6, number:12.2, number:9.0, number:8.0, number:6.0, number:2005.0, text:'MICS']\n",
      "99 [text:'Thailand', number:8.3, empty:'', number:8.3, number:8.2, number:8.0, number:8.4, number:8.6, number:8.5, number:9.0, number:8.1, number:7.0, number:2006.0, text:'MICS']\n",
      "100 [text:'The former Yugoslav Republic of Macedonia', number:12.5, empty:'', number:12.1, number:13.0, number:8.4, number:16.8, number:20.4, number:12.5, number:14.4, number:8.0, number:6.6, number:2011.0, text:'MICS']\n",
      "101 [text:'Timor-Leste', number:4.2, empty:'', number:4.1, number:4.4, text:'-', text:'-', text:'-', text:'-', text:'-', text:'-', text:'-', number:2002.0, text:'MICS']\n",
      "102 [text:'Togo', number:28.3, empty:'', number:27.7, number:28.9, number:18.3, number:32.7, number:35.1, number:31.6, number:32.7, number:18.8, number:17.5, number:2010.0, text:'MICS']\n",
      "103 [text:'Trinidad and Tobago', number:0.7, empty:'', number:0.7, number:0.6, text:'-', text:'-', number:1.2, number:0.6, number:0.9, number:0.4, number:0.0, number:2006.0, text:'MICS']\n",
      "104 [text:'Tunisia', number:2.1, empty:'', number:2.6, number:1.6, number:1.5, number:3.3, number:2.7, number:2.6, number:1.1, number:1.5, number:2.6, text:'2011-2012', text:'MICS']\n",
      "105 [text:'Turkey', number:5.9, text:'y', number:7.9, number:3.7, number:3.9, number:9.7, text:'-', text:'-', text:'-', text:'-', text:'-', number:2012.0, text:'Child Labour Force Survey']\n",
      "106 [text:'Uganda', number:16.3, text:'y', number:16.9, number:15.6, number:8.8, number:17.4, text:'-', text:'-', text:'-', text:'-', text:'-', text:'2011/2012', text:'National Labour Force and Child Activities Survey']\n",
      "107 [text:'Ukraine', number:2.4, empty:'', number:2.5, number:2.4, number:1.6, number:4.3, number:4.6, number:3.3, number:1.9, number:2.5, number:0.2, number:2012.0, text:'MICS']\n",
      "108 [text:'United Republic of Tanzania', number:21.1, text:'y', number:23.3, number:18.8, number:14.8, number:25.2, text:'-', text:'-', text:'-', text:'-', text:'-', number:2006.0, text:'Integrated Labour Force Survey']\n",
      "109 [text:'Uruguay', number:7.9, text:'y', number:8.3, number:7.5, text:'-', text:'-', text:'-', text:'-', text:'-', text:'-', text:'-', number:2006.0, text:'ENHA']\n",
      "110 [text:'Venezuela (Bolivarian Republic of)', number:7.7, empty:'', number:9.2, number:6.2, text:'-', text:'-', text:'-', text:'-', text:'-', text:'-', text:'-', number:2000.0, text:'MICS']\n",
      "111 [text:'Viet Nam', number:6.9, empty:'', number:6.5, number:7.4, number:4.1, number:7.9, number:11.9, number:9.6, number:5.1, number:3.7, number:2.3, number:2011.0, text:'MICS']\n",
      "112 [text:'Yemen', number:22.7, empty:'', number:21.1, number:24.4, number:8.1, number:28.6, number:36.8, number:28.5, number:22.7, number:13.6, number:10.2, number:2006.0, text:'MICS']\n",
      "113 [text:'Zambia', number:40.6, text:'y', number:41.6, number:39.5, number:9.2, number:56.0, text:'-', text:'-', text:'-', text:'-', text:'-', number:2005.0, text:'Other National Survey, UCW calculations']\n",
      "114 [empty:'', empty:'', empty:'', empty:'', empty:'', empty:'', empty:'', empty:'', empty:'', empty:'', empty:'', empty:'', empty:'', empty:'']\n",
      "115 [text:'Sub-Saharan Africa', number:24.971247439998038, empty:'', number:25.360921492010025, number:24.54592292310616, text:'–', text:'–', text:'–', text:'–', text:'–', text:'–', text:'–', empty:'', empty:'']\n",
      "116 [text:'Eastern and Southern Africa', number:25.260535889918042, empty:'', number:26.52655776473469, number:23.914511793758958, text:'–', text:'–', text:'–', text:'–', text:'–', text:'–', text:'–', empty:'', empty:'']\n",
      "117 [text:'West and Central Africa', number:24.79921828162676, empty:'', number:24.593858857812133, number:25.01060717034784, text:'–', text:'–', text:'–', text:'–', text:'–', text:'–', text:'–', empty:'', empty:'']\n",
      "118 [text:'Middle East and North Africa', number:8.908409240697537, empty:'', number:10.601358130447883, number:7.139944708092362, text:'–', text:'–', text:'–', text:'–', text:'–', text:'–', text:'–', empty:'', empty:'']\n",
      "119 [text:'South Asia', number:12.367478968427415, empty:'', number:12.62776670207997, number:12.00494487622905, text:'–', text:'–', text:'–', text:'–', text:'–', text:'–', text:'–', empty:'', empty:'']\n",
      "120 [text:'East Asia and Pacific', number:8.395057888152063, text:'**', number:9.517664037077507, number:7.178416066469366, text:'–', text:'–', text:'–', text:'–', text:'–', text:'–', text:'–', empty:'', empty:'']\n",
      "121 [text:'Latin America and Caribbean', number:10.977444542743939, empty:'', number:13.125494516092125, number:9.131198495063732, text:'–', text:'–', text:'–', text:'–', text:'–', text:'–', text:'–', empty:'', empty:'']\n",
      "122 [text:'CEE/CIS', number:5.420397937973456, empty:'', number:6.539194669306934, number:4.213870248951129, text:'–', text:'–', text:'–', text:'–', text:'–', text:'–', text:'–', empty:'', empty:'']\n",
      "123 [text:'Least developed countries', number:21.6656626531534, empty:'', number:22.785449314907545, number:20.51783765989917, text:'–', text:'–', text:'–', text:'–', text:'–', text:'–', text:'–', empty:'', empty:'']\n",
      "124 [text:'World', number:12.631385083612308, text:'**', number:13.468450007390524, number:11.74769381493197, text:'–', text:'–', text:'–', text:'–', text:'–', text:'–', text:'–', empty:'', empty:'']\n",
      "125 [empty:'', empty:'', empty:'', empty:'', empty:'', empty:'', empty:'', empty:'', empty:'', empty:'', empty:'', empty:'', empty:'', empty:'']\n",
      "126 [text:'– Data not available', empty:'', empty:'', empty:'', empty:'', empty:'', empty:'', empty:'', empty:'', empty:'', empty:'', empty:'', empty:'', empty:'']\n",
      "127 [text:'y Data differ from the standard definition or refer to only part of a country. ', empty:'', empty:'', empty:'', empty:'', empty:'', empty:'', empty:'', empty:'', empty:'', empty:'', empty:'', empty:'', empty:'']\n",
      "128 [text:'** Excludes China.', empty:'', empty:'', empty:'', empty:'', empty:'', empty:'', empty:'', empty:'', empty:'', empty:'', empty:'', empty:'', empty:'']\n",
      "129 [empty:'', empty:'', empty:'', empty:'', empty:'', empty:'', empty:'', empty:'', empty:'', empty:'', empty:'', empty:'', empty:'', empty:'']\n",
      "130 [text:'Indicator definition: Percentage of children 5–14 years old involved in child labour at the moment of the survey. A child is considered to be involved in child labour under the following conditions: (a) children 5–11 years old who, during the reference week, did at least one hour of economic activity or at least 28 hours of household chores, or (b) children 12–14 years old who, during the reference week, did at least 14 hours of economic activity or at least 28 hours of household chores.', empty:'', empty:'', empty:'', empty:'', empty:'', empty:'', empty:'', empty:'', empty:'', empty:'', empty:'', empty:'', empty:'']\n",
      "131 [empty:'', empty:'', empty:'', empty:'', empty:'', empty:'', empty:'', empty:'', empty:'', empty:'', empty:'', empty:'', empty:'', empty:'']\n",
      "132 [text:'Notes: Data from the fourth round of MICS (MICS4, 2009–2012) included in the table have been recalculated according to the indicator definition used in MICS3 surveys, to ensure cross-country comparability. In this definition, the activities of fetching water or collecting firewood are classified as household chores rather than as an economic activity. Under this approach, a child between the ages of 5–14 years old would have to be engaged in fetching water or collecting firewood for at least 28 hours per week to be considered as a child labourer.', empty:'', empty:'', empty:'', empty:'', empty:'', empty:'', empty:'', empty:'', empty:'', empty:'', empty:'', empty:'', empty:'']\n",
      "133 [text:'Source: UNICEF global databases, 2014, based on DHS, MICS and other nationally representative surveys.', empty:'', empty:'', empty:'', empty:'', empty:'', empty:'', empty:'', empty:'', empty:'', empty:'', empty:'', empty:'', empty:'']\n"
     ]
    }
   ],
   "source": [
    "for r in range(sheet.nrows):\n",
    "    print (r,sheet.row(r))"
   ]
  },
  {
   "cell_type": "code",
   "execution_count": 58,
   "metadata": {},
   "outputs": [
    {
     "name": "stdout",
     "output_type": "stream",
     "text": [
      "<zip object at 0x000001B68A4ED988>\n"
     ]
    }
   ],
   "source": [
    "# first, get the titles of our columns. \n",
    "title_rows=zip(sheet.row_values(4),sheet.row_values(5))\n",
    "print(title_rows)"
   ]
  },
  {
   "cell_type": "markdown",
   "metadata": {},
   "source": [
    "# Summarizing, Aggregating, and Grouping"
   ]
  },
  {
   "cell_type": "code",
   "execution_count": 63,
   "metadata": {},
   "outputs": [
    {
     "data": {
      "text/html": [
       "<div>\n",
       "<style scoped>\n",
       "    .dataframe tbody tr th:only-of-type {\n",
       "        vertical-align: middle;\n",
       "    }\n",
       "\n",
       "    .dataframe tbody tr th {\n",
       "        vertical-align: top;\n",
       "    }\n",
       "\n",
       "    .dataframe thead th {\n",
       "        text-align: right;\n",
       "    }\n",
       "</style>\n",
       "<table border=\"1\" class=\"dataframe\">\n",
       "  <thead>\n",
       "    <tr style=\"text-align: right;\">\n",
       "      <th></th>\n",
       "      <th>index</th>\n",
       "      <th>date</th>\n",
       "      <th>duration</th>\n",
       "      <th>item</th>\n",
       "      <th>month</th>\n",
       "      <th>network</th>\n",
       "      <th>network_type</th>\n",
       "    </tr>\n",
       "  </thead>\n",
       "  <tbody>\n",
       "    <tr>\n",
       "      <td>0</td>\n",
       "      <td>0</td>\n",
       "      <td>15/10/14 06:58</td>\n",
       "      <td>34.429</td>\n",
       "      <td>data</td>\n",
       "      <td>2014-11</td>\n",
       "      <td>data</td>\n",
       "      <td>data</td>\n",
       "    </tr>\n",
       "    <tr>\n",
       "      <td>1</td>\n",
       "      <td>1</td>\n",
       "      <td>15/10/14 06:58</td>\n",
       "      <td>13.000</td>\n",
       "      <td>call</td>\n",
       "      <td>2014-11</td>\n",
       "      <td>Vodafone</td>\n",
       "      <td>mobile</td>\n",
       "    </tr>\n",
       "    <tr>\n",
       "      <td>2</td>\n",
       "      <td>2</td>\n",
       "      <td>15/10/14 14:46</td>\n",
       "      <td>23.000</td>\n",
       "      <td>call</td>\n",
       "      <td>2014-11</td>\n",
       "      <td>Meteor</td>\n",
       "      <td>mobile</td>\n",
       "    </tr>\n",
       "    <tr>\n",
       "      <td>3</td>\n",
       "      <td>3</td>\n",
       "      <td>15/10/14 14:48</td>\n",
       "      <td>4.000</td>\n",
       "      <td>call</td>\n",
       "      <td>2014-11</td>\n",
       "      <td>Tesco</td>\n",
       "      <td>mobile</td>\n",
       "    </tr>\n",
       "    <tr>\n",
       "      <td>4</td>\n",
       "      <td>4</td>\n",
       "      <td>15/10/14 17:27</td>\n",
       "      <td>4.000</td>\n",
       "      <td>call</td>\n",
       "      <td>2014-11</td>\n",
       "      <td>Tesco</td>\n",
       "      <td>mobile</td>\n",
       "    </tr>\n",
       "  </tbody>\n",
       "</table>\n",
       "</div>"
      ],
      "text/plain": [
       "   index            date  duration  item    month   network network_type\n",
       "0      0  15/10/14 06:58    34.429  data  2014-11      data         data\n",
       "1      1  15/10/14 06:58    13.000  call  2014-11  Vodafone       mobile\n",
       "2      2  15/10/14 14:46    23.000  call  2014-11    Meteor       mobile\n",
       "3      3  15/10/14 14:48     4.000  call  2014-11     Tesco       mobile\n",
       "4      4  15/10/14 17:27     4.000  call  2014-11     Tesco       mobile"
      ]
     },
     "execution_count": 63,
     "metadata": {},
     "output_type": "execute_result"
    }
   ],
   "source": [
    "import dateutil\n",
    "data=pd.read_csv('phone_data.csv')\n",
    "data.head()"
   ]
  },
  {
   "cell_type": "code",
   "execution_count": 64,
   "metadata": {},
   "outputs": [],
   "source": [
    "data['date'] = data['date'].apply(dateutil.parser.parse, dayfirst=True)"
   ]
  },
  {
   "cell_type": "code",
   "execution_count": 65,
   "metadata": {},
   "outputs": [
    {
     "data": {
      "text/plain": [
       "2014-11    230\n",
       "2015-01    205\n",
       "2014-12    157\n",
       "2015-02    137\n",
       "2015-03    101\n",
       "Name: month, dtype: int64"
      ]
     },
     "execution_count": 65,
     "metadata": {},
     "output_type": "execute_result"
    }
   ],
   "source": [
    "data['month'].value_counts()"
   ]
  },
  {
   "cell_type": "code",
   "execution_count": 67,
   "metadata": {},
   "outputs": [
    {
     "data": {
      "text/plain": [
       "9"
      ]
     },
     "execution_count": 67,
     "metadata": {},
     "output_type": "execute_result"
    }
   ],
   "source": [
    "data['network'].nunique()"
   ]
  },
  {
   "cell_type": "code",
   "execution_count": 68,
   "metadata": {},
   "outputs": [
    {
     "data": {
      "text/plain": [
       "dict_keys(['2014-11', '2014-12', '2015-01', '2015-02', '2015-03'])"
      ]
     },
     "execution_count": 68,
     "metadata": {},
     "output_type": "execute_result"
    }
   ],
   "source": [
    "data.groupby(['month']).groups.keys()"
   ]
  },
  {
   "cell_type": "code",
   "execution_count": 70,
   "metadata": {},
   "outputs": [
    {
     "data": {
      "text/plain": [
       "230"
      ]
     },
     "execution_count": 70,
     "metadata": {},
     "output_type": "execute_result"
    }
   ],
   "source": [
    "len(data.groupby(['month']).groups['2014-11'])"
   ]
  },
  {
   "cell_type": "code",
   "execution_count": 74,
   "metadata": {},
   "outputs": [
    {
     "data": {
      "text/plain": [
       "month\n",
       "2014-11    230\n",
       "2014-12    157\n",
       "2015-01    205\n",
       "2015-02    137\n",
       "2015-03    101\n",
       "Name: date, dtype: int64"
      ]
     },
     "execution_count": 74,
     "metadata": {},
     "output_type": "execute_result"
    }
   ],
   "source": [
    "data.groupby(['month'])['date'].count()"
   ]
  },
  {
   "cell_type": "code",
   "execution_count": 75,
   "metadata": {},
   "outputs": [
    {
     "data": {
      "text/plain": [
       "network\n",
       "Meteor        7200.0\n",
       "Tesco        13828.0\n",
       "Three        36464.0\n",
       "Vodafone     14621.0\n",
       "landline     18433.0\n",
       "voicemail     1775.0\n",
       "Name: duration, dtype: float64"
      ]
     },
     "execution_count": 75,
     "metadata": {},
     "output_type": "execute_result"
    }
   ],
   "source": [
    "data[data['item']=='call'].groupby('network')['duration'].sum()"
   ]
  },
  {
   "cell_type": "code",
   "execution_count": 76,
   "metadata": {},
   "outputs": [
    {
     "data": {
      "text/plain": [
       "month\n",
       "2014-11    26639.441\n",
       "2014-12    14641.870\n",
       "2015-01    18223.299\n",
       "2015-02    15522.299\n",
       "2015-03    22750.441\n",
       "Name: duration, dtype: float64"
      ]
     },
     "execution_count": 76,
     "metadata": {},
     "output_type": "execute_result"
    }
   ],
   "source": [
    "#produces Pandas Series\n",
    "data.groupby('month')['duration'].sum()"
   ]
  },
  {
   "cell_type": "code",
   "execution_count": 77,
   "metadata": {},
   "outputs": [
    {
     "data": {
      "text/html": [
       "<div>\n",
       "<style scoped>\n",
       "    .dataframe tbody tr th:only-of-type {\n",
       "        vertical-align: middle;\n",
       "    }\n",
       "\n",
       "    .dataframe tbody tr th {\n",
       "        vertical-align: top;\n",
       "    }\n",
       "\n",
       "    .dataframe thead th {\n",
       "        text-align: right;\n",
       "    }\n",
       "</style>\n",
       "<table border=\"1\" class=\"dataframe\">\n",
       "  <thead>\n",
       "    <tr style=\"text-align: right;\">\n",
       "      <th></th>\n",
       "      <th>duration</th>\n",
       "    </tr>\n",
       "    <tr>\n",
       "      <th>month</th>\n",
       "      <th></th>\n",
       "    </tr>\n",
       "  </thead>\n",
       "  <tbody>\n",
       "    <tr>\n",
       "      <td>2014-11</td>\n",
       "      <td>26639.441</td>\n",
       "    </tr>\n",
       "    <tr>\n",
       "      <td>2014-12</td>\n",
       "      <td>14641.870</td>\n",
       "    </tr>\n",
       "    <tr>\n",
       "      <td>2015-01</td>\n",
       "      <td>18223.299</td>\n",
       "    </tr>\n",
       "    <tr>\n",
       "      <td>2015-02</td>\n",
       "      <td>15522.299</td>\n",
       "    </tr>\n",
       "    <tr>\n",
       "      <td>2015-03</td>\n",
       "      <td>22750.441</td>\n",
       "    </tr>\n",
       "  </tbody>\n",
       "</table>\n",
       "</div>"
      ],
      "text/plain": [
       "          duration\n",
       "month             \n",
       "2014-11  26639.441\n",
       "2014-12  14641.870\n",
       "2015-01  18223.299\n",
       "2015-02  15522.299\n",
       "2015-03  22750.441"
      ]
     },
     "execution_count": 77,
     "metadata": {},
     "output_type": "execute_result"
    }
   ],
   "source": [
    "#produces Pandas DataFrame\n",
    "data.groupby('month')[['duration']].sum()"
   ]
  },
  {
   "cell_type": "code",
   "execution_count": 82,
   "metadata": {},
   "outputs": [
    {
     "data": {
      "text/html": [
       "<div>\n",
       "<style scoped>\n",
       "    .dataframe tbody tr th:only-of-type {\n",
       "        vertical-align: middle;\n",
       "    }\n",
       "\n",
       "    .dataframe tbody tr th {\n",
       "        vertical-align: top;\n",
       "    }\n",
       "\n",
       "    .dataframe thead th {\n",
       "        text-align: right;\n",
       "    }\n",
       "</style>\n",
       "<table border=\"1\" class=\"dataframe\">\n",
       "  <thead>\n",
       "    <tr style=\"text-align: right;\">\n",
       "      <th></th>\n",
       "      <th>month</th>\n",
       "      <th>duration</th>\n",
       "    </tr>\n",
       "  </thead>\n",
       "  <tbody>\n",
       "    <tr>\n",
       "      <td>0</td>\n",
       "      <td>2014-11</td>\n",
       "      <td>26639.441</td>\n",
       "    </tr>\n",
       "    <tr>\n",
       "      <td>1</td>\n",
       "      <td>2014-12</td>\n",
       "      <td>14641.870</td>\n",
       "    </tr>\n",
       "    <tr>\n",
       "      <td>2</td>\n",
       "      <td>2015-01</td>\n",
       "      <td>18223.299</td>\n",
       "    </tr>\n",
       "    <tr>\n",
       "      <td>3</td>\n",
       "      <td>2015-02</td>\n",
       "      <td>15522.299</td>\n",
       "    </tr>\n",
       "    <tr>\n",
       "      <td>4</td>\n",
       "      <td>2015-03</td>\n",
       "      <td>22750.441</td>\n",
       "    </tr>\n",
       "  </tbody>\n",
       "</table>\n",
       "</div>"
      ],
      "text/plain": [
       "     month   duration\n",
       "0  2014-11  26639.441\n",
       "1  2014-12  14641.870\n",
       "2  2015-01  18223.299\n",
       "3  2015-02  15522.299\n",
       "4  2015-03  22750.441"
      ]
     },
     "execution_count": 82,
     "metadata": {},
     "output_type": "execute_result"
    }
   ],
   "source": [
    "data.groupby('month',as_index=False).agg({\"duration\":\"sum\"})\n",
    "# Using the as_index parameter while Grouping data in pandas prevents setting\n",
    "# a row index on the result."
   ]
  },
  {
   "cell_type": "markdown",
   "metadata": {},
   "source": [
    "Applying a single function to columns in groups"
   ]
  },
  {
   "cell_type": "code",
   "execution_count": 85,
   "metadata": {},
   "outputs": [
    {
     "data": {
      "text/html": [
       "<div>\n",
       "<style scoped>\n",
       "    .dataframe tbody tr th:only-of-type {\n",
       "        vertical-align: middle;\n",
       "    }\n",
       "\n",
       "    .dataframe tbody tr th {\n",
       "        vertical-align: top;\n",
       "    }\n",
       "\n",
       "    .dataframe thead th {\n",
       "        text-align: right;\n",
       "    }\n",
       "</style>\n",
       "<table border=\"1\" class=\"dataframe\">\n",
       "  <thead>\n",
       "    <tr style=\"text-align: right;\">\n",
       "      <th></th>\n",
       "      <th></th>\n",
       "      <th>duration</th>\n",
       "      <th>network_type</th>\n",
       "      <th>date</th>\n",
       "    </tr>\n",
       "    <tr>\n",
       "      <th>month</th>\n",
       "      <th>item</th>\n",
       "      <th></th>\n",
       "      <th></th>\n",
       "      <th></th>\n",
       "    </tr>\n",
       "  </thead>\n",
       "  <tbody>\n",
       "    <tr>\n",
       "      <td rowspan=\"3\" valign=\"top\">2014-11</td>\n",
       "      <td>call</td>\n",
       "      <td>25547.000</td>\n",
       "      <td>107</td>\n",
       "      <td>2014-10-15 06:58:00</td>\n",
       "    </tr>\n",
       "    <tr>\n",
       "      <td>data</td>\n",
       "      <td>998.441</td>\n",
       "      <td>29</td>\n",
       "      <td>2014-10-15 06:58:00</td>\n",
       "    </tr>\n",
       "    <tr>\n",
       "      <td>sms</td>\n",
       "      <td>94.000</td>\n",
       "      <td>94</td>\n",
       "      <td>2014-10-16 22:18:00</td>\n",
       "    </tr>\n",
       "    <tr>\n",
       "      <td rowspan=\"3\" valign=\"top\">2014-12</td>\n",
       "      <td>call</td>\n",
       "      <td>13561.000</td>\n",
       "      <td>79</td>\n",
       "      <td>2014-11-14 17:24:00</td>\n",
       "    </tr>\n",
       "    <tr>\n",
       "      <td>data</td>\n",
       "      <td>1032.870</td>\n",
       "      <td>30</td>\n",
       "      <td>2014-11-13 06:58:00</td>\n",
       "    </tr>\n",
       "    <tr>\n",
       "      <td>sms</td>\n",
       "      <td>48.000</td>\n",
       "      <td>48</td>\n",
       "      <td>2014-11-14 17:28:00</td>\n",
       "    </tr>\n",
       "    <tr>\n",
       "      <td rowspan=\"3\" valign=\"top\">2015-01</td>\n",
       "      <td>call</td>\n",
       "      <td>17070.000</td>\n",
       "      <td>88</td>\n",
       "      <td>2014-12-15 20:03:00</td>\n",
       "    </tr>\n",
       "    <tr>\n",
       "      <td>data</td>\n",
       "      <td>1067.299</td>\n",
       "      <td>31</td>\n",
       "      <td>2014-12-13 06:58:00</td>\n",
       "    </tr>\n",
       "    <tr>\n",
       "      <td>sms</td>\n",
       "      <td>86.000</td>\n",
       "      <td>86</td>\n",
       "      <td>2014-12-15 19:56:00</td>\n",
       "    </tr>\n",
       "    <tr>\n",
       "      <td rowspan=\"3\" valign=\"top\">2015-02</td>\n",
       "      <td>call</td>\n",
       "      <td>14416.000</td>\n",
       "      <td>67</td>\n",
       "      <td>2015-01-15 10:36:00</td>\n",
       "    </tr>\n",
       "    <tr>\n",
       "      <td>data</td>\n",
       "      <td>1067.299</td>\n",
       "      <td>31</td>\n",
       "      <td>2015-01-13 06:58:00</td>\n",
       "    </tr>\n",
       "    <tr>\n",
       "      <td>sms</td>\n",
       "      <td>39.000</td>\n",
       "      <td>39</td>\n",
       "      <td>2015-01-15 12:23:00</td>\n",
       "    </tr>\n",
       "    <tr>\n",
       "      <td rowspan=\"3\" valign=\"top\">2015-03</td>\n",
       "      <td>call</td>\n",
       "      <td>21727.000</td>\n",
       "      <td>47</td>\n",
       "      <td>2015-02-12 20:15:00</td>\n",
       "    </tr>\n",
       "    <tr>\n",
       "      <td>data</td>\n",
       "      <td>998.441</td>\n",
       "      <td>29</td>\n",
       "      <td>2015-02-13 06:58:00</td>\n",
       "    </tr>\n",
       "    <tr>\n",
       "      <td>sms</td>\n",
       "      <td>25.000</td>\n",
       "      <td>25</td>\n",
       "      <td>2015-02-19 18:46:00</td>\n",
       "    </tr>\n",
       "  </tbody>\n",
       "</table>\n",
       "</div>"
      ],
      "text/plain": [
       "               duration  network_type                date\n",
       "month   item                                             \n",
       "2014-11 call  25547.000           107 2014-10-15 06:58:00\n",
       "        data    998.441            29 2014-10-15 06:58:00\n",
       "        sms      94.000            94 2014-10-16 22:18:00\n",
       "2014-12 call  13561.000            79 2014-11-14 17:24:00\n",
       "        data   1032.870            30 2014-11-13 06:58:00\n",
       "        sms      48.000            48 2014-11-14 17:28:00\n",
       "2015-01 call  17070.000            88 2014-12-15 20:03:00\n",
       "        data   1067.299            31 2014-12-13 06:58:00\n",
       "        sms      86.000            86 2014-12-15 19:56:00\n",
       "2015-02 call  14416.000            67 2015-01-15 10:36:00\n",
       "        data   1067.299            31 2015-01-13 06:58:00\n",
       "        sms      39.000            39 2015-01-15 12:23:00\n",
       "2015-03 call  21727.000            47 2015-02-12 20:15:00\n",
       "        data    998.441            29 2015-02-13 06:58:00\n",
       "        sms      25.000            25 2015-02-19 18:46:00"
      ]
     },
     "execution_count": 85,
     "metadata": {},
     "output_type": "execute_result"
    }
   ],
   "source": [
    "data.groupby(\n",
    "['month','item']\n",
    ").agg(\n",
    "    {\n",
    "        'duration':sum,\n",
    "        'network_type': \"count\",\n",
    "        'date': 'first'\n",
    "    }\n",
    ")"
   ]
  },
  {
   "cell_type": "code",
   "execution_count": 105,
   "metadata": {},
   "outputs": [
    {
     "data": {
      "text/html": [
       "<div>\n",
       "<style scoped>\n",
       "    .dataframe tbody tr th:only-of-type {\n",
       "        vertical-align: middle;\n",
       "    }\n",
       "\n",
       "    .dataframe tbody tr th {\n",
       "        vertical-align: top;\n",
       "    }\n",
       "\n",
       "    .dataframe thead tr th {\n",
       "        text-align: left;\n",
       "    }\n",
       "\n",
       "    .dataframe thead tr:last-of-type th {\n",
       "        text-align: right;\n",
       "    }\n",
       "</style>\n",
       "<table border=\"1\" class=\"dataframe\">\n",
       "  <thead>\n",
       "    <tr>\n",
       "      <th></th>\n",
       "      <th colspan=\"3\" halign=\"left\">duration</th>\n",
       "      <th colspan=\"3\" halign=\"left\">network_type</th>\n",
       "      <th colspan=\"3\" halign=\"left\">date</th>\n",
       "    </tr>\n",
       "    <tr>\n",
       "      <th>item</th>\n",
       "      <th>call</th>\n",
       "      <th>data</th>\n",
       "      <th>sms</th>\n",
       "      <th>call</th>\n",
       "      <th>data</th>\n",
       "      <th>sms</th>\n",
       "      <th>call</th>\n",
       "      <th>data</th>\n",
       "      <th>sms</th>\n",
       "    </tr>\n",
       "    <tr>\n",
       "      <th>month</th>\n",
       "      <th></th>\n",
       "      <th></th>\n",
       "      <th></th>\n",
       "      <th></th>\n",
       "      <th></th>\n",
       "      <th></th>\n",
       "      <th></th>\n",
       "      <th></th>\n",
       "      <th></th>\n",
       "    </tr>\n",
       "  </thead>\n",
       "  <tbody>\n",
       "    <tr>\n",
       "      <td>2014-11</td>\n",
       "      <td>25547.0</td>\n",
       "      <td>998.441</td>\n",
       "      <td>94.0</td>\n",
       "      <td>107</td>\n",
       "      <td>29</td>\n",
       "      <td>94</td>\n",
       "      <td>2014-10-15 06:58:00</td>\n",
       "      <td>2014-10-15 06:58:00</td>\n",
       "      <td>2014-10-16 22:18:00</td>\n",
       "    </tr>\n",
       "    <tr>\n",
       "      <td>2014-12</td>\n",
       "      <td>13561.0</td>\n",
       "      <td>1032.870</td>\n",
       "      <td>48.0</td>\n",
       "      <td>79</td>\n",
       "      <td>30</td>\n",
       "      <td>48</td>\n",
       "      <td>2014-11-14 17:24:00</td>\n",
       "      <td>2014-11-13 06:58:00</td>\n",
       "      <td>2014-11-14 17:28:00</td>\n",
       "    </tr>\n",
       "    <tr>\n",
       "      <td>2015-01</td>\n",
       "      <td>17070.0</td>\n",
       "      <td>1067.299</td>\n",
       "      <td>86.0</td>\n",
       "      <td>88</td>\n",
       "      <td>31</td>\n",
       "      <td>86</td>\n",
       "      <td>2014-12-15 20:03:00</td>\n",
       "      <td>2014-12-13 06:58:00</td>\n",
       "      <td>2014-12-15 19:56:00</td>\n",
       "    </tr>\n",
       "    <tr>\n",
       "      <td>2015-02</td>\n",
       "      <td>14416.0</td>\n",
       "      <td>1067.299</td>\n",
       "      <td>39.0</td>\n",
       "      <td>67</td>\n",
       "      <td>31</td>\n",
       "      <td>39</td>\n",
       "      <td>2015-01-15 10:36:00</td>\n",
       "      <td>2015-01-13 06:58:00</td>\n",
       "      <td>2015-01-15 12:23:00</td>\n",
       "    </tr>\n",
       "    <tr>\n",
       "      <td>2015-03</td>\n",
       "      <td>21727.0</td>\n",
       "      <td>998.441</td>\n",
       "      <td>25.0</td>\n",
       "      <td>47</td>\n",
       "      <td>29</td>\n",
       "      <td>25</td>\n",
       "      <td>2015-02-12 20:15:00</td>\n",
       "      <td>2015-02-13 06:58:00</td>\n",
       "      <td>2015-02-19 18:46:00</td>\n",
       "    </tr>\n",
       "  </tbody>\n",
       "</table>\n",
       "</div>"
      ],
      "text/plain": [
       "        duration                 network_type                         date  \\\n",
       "item        call      data   sms         call data sms                call   \n",
       "month                                                                        \n",
       "2014-11  25547.0   998.441  94.0          107   29  94 2014-10-15 06:58:00   \n",
       "2014-12  13561.0  1032.870  48.0           79   30  48 2014-11-14 17:24:00   \n",
       "2015-01  17070.0  1067.299  86.0           88   31  86 2014-12-15 20:03:00   \n",
       "2015-02  14416.0  1067.299  39.0           67   31  39 2015-01-15 10:36:00   \n",
       "2015-03  21727.0   998.441  25.0           47   29  25 2015-02-12 20:15:00   \n",
       "\n",
       "                                                 \n",
       "item                   data                 sms  \n",
       "month                                            \n",
       "2014-11 2014-10-15 06:58:00 2014-10-16 22:18:00  \n",
       "2014-12 2014-11-13 06:58:00 2014-11-14 17:28:00  \n",
       "2015-01 2014-12-13 06:58:00 2014-12-15 19:56:00  \n",
       "2015-02 2015-01-13 06:58:00 2015-01-15 12:23:00  \n",
       "2015-03 2015-02-13 06:58:00 2015-02-19 18:46:00  "
      ]
     },
     "execution_count": 105,
     "metadata": {},
     "output_type": "execute_result"
    }
   ],
   "source": [
    "data.groupby(\n",
    "['month','item']\n",
    ").agg(\n",
    "    {\n",
    "        'duration':sum,\n",
    "        'network_type': \"count\",\n",
    "        'date': 'first'\n",
    "    }\n",
    ").unstack() #unstack reduces the layers of the dataframe"
   ]
  },
  {
   "cell_type": "markdown",
   "metadata": {},
   "source": [
    "Applying multiple functions to columns in groups"
   ]
  },
  {
   "cell_type": "code",
   "execution_count": 93,
   "metadata": {},
   "outputs": [],
   "source": [
    "df1=data.groupby(\n",
    "    ['month', 'item']\n",
    ").agg(\n",
    "    {\n",
    "        # find the min, max, and sum of the duration column\n",
    "        'duration': [min, max, sum],\n",
    "         # find the number of network type entries\n",
    "        'network_type': \"count\",\n",
    "        # min, first, and number of unique dates per group\n",
    "        'date': [min, 'first', 'nunique']\n",
    "    }\n",
    ")"
   ]
  },
  {
   "cell_type": "markdown",
   "metadata": {},
   "source": [
    "Renaming grouped statistics from groupby operations"
   ]
  },
  {
   "cell_type": "code",
   "execution_count": 98,
   "metadata": {},
   "outputs": [
    {
     "data": {
      "text/html": [
       "<div>\n",
       "<style scoped>\n",
       "    .dataframe tbody tr th:only-of-type {\n",
       "        vertical-align: middle;\n",
       "    }\n",
       "\n",
       "    .dataframe tbody tr th {\n",
       "        vertical-align: top;\n",
       "    }\n",
       "\n",
       "    .dataframe thead tr th {\n",
       "        text-align: left;\n",
       "    }\n",
       "\n",
       "    .dataframe thead tr:last-of-type th {\n",
       "        text-align: right;\n",
       "    }\n",
       "</style>\n",
       "<table border=\"1\" class=\"dataframe\">\n",
       "  <thead>\n",
       "    <tr>\n",
       "      <th></th>\n",
       "      <th colspan=\"3\" halign=\"left\">duration</th>\n",
       "    </tr>\n",
       "    <tr>\n",
       "      <th></th>\n",
       "      <th>min</th>\n",
       "      <th>max</th>\n",
       "      <th>mean</th>\n",
       "    </tr>\n",
       "    <tr>\n",
       "      <th>month</th>\n",
       "      <th></th>\n",
       "      <th></th>\n",
       "      <th></th>\n",
       "    </tr>\n",
       "  </thead>\n",
       "  <tbody>\n",
       "    <tr>\n",
       "      <td>2014-11</td>\n",
       "      <td>1.0</td>\n",
       "      <td>1940.0</td>\n",
       "      <td>115.823657</td>\n",
       "    </tr>\n",
       "    <tr>\n",
       "      <td>2014-12</td>\n",
       "      <td>1.0</td>\n",
       "      <td>2120.0</td>\n",
       "      <td>93.260318</td>\n",
       "    </tr>\n",
       "    <tr>\n",
       "      <td>2015-01</td>\n",
       "      <td>1.0</td>\n",
       "      <td>1859.0</td>\n",
       "      <td>88.894141</td>\n",
       "    </tr>\n",
       "    <tr>\n",
       "      <td>2015-02</td>\n",
       "      <td>1.0</td>\n",
       "      <td>1863.0</td>\n",
       "      <td>113.301453</td>\n",
       "    </tr>\n",
       "    <tr>\n",
       "      <td>2015-03</td>\n",
       "      <td>1.0</td>\n",
       "      <td>10528.0</td>\n",
       "      <td>225.251891</td>\n",
       "    </tr>\n",
       "  </tbody>\n",
       "</table>\n",
       "</div>"
      ],
      "text/plain": [
       "        duration                     \n",
       "             min      max        mean\n",
       "month                                \n",
       "2014-11      1.0   1940.0  115.823657\n",
       "2014-12      1.0   2120.0   93.260318\n",
       "2015-01      1.0   1859.0   88.894141\n",
       "2015-02      1.0   1863.0  113.301453\n",
       "2015-03      1.0  10528.0  225.251891"
      ]
     },
     "execution_count": 98,
     "metadata": {},
     "output_type": "execute_result"
    }
   ],
   "source": [
    "grouped = data.groupby('month').agg({\"duration\":[min, max, np.mean]})\n",
    "grouped.head()\n"
   ]
  },
  {
   "cell_type": "code",
   "execution_count": 99,
   "metadata": {},
   "outputs": [
    {
     "data": {
      "text/html": [
       "<div>\n",
       "<style scoped>\n",
       "    .dataframe tbody tr th:only-of-type {\n",
       "        vertical-align: middle;\n",
       "    }\n",
       "\n",
       "    .dataframe tbody tr th {\n",
       "        vertical-align: top;\n",
       "    }\n",
       "\n",
       "    .dataframe thead th {\n",
       "        text-align: right;\n",
       "    }\n",
       "</style>\n",
       "<table border=\"1\" class=\"dataframe\">\n",
       "  <thead>\n",
       "    <tr style=\"text-align: right;\">\n",
       "      <th></th>\n",
       "      <th>min</th>\n",
       "      <th>max</th>\n",
       "      <th>mean</th>\n",
       "    </tr>\n",
       "    <tr>\n",
       "      <th>month</th>\n",
       "      <th></th>\n",
       "      <th></th>\n",
       "      <th></th>\n",
       "    </tr>\n",
       "  </thead>\n",
       "  <tbody>\n",
       "    <tr>\n",
       "      <td>2014-11</td>\n",
       "      <td>1.0</td>\n",
       "      <td>1940.0</td>\n",
       "      <td>115.823657</td>\n",
       "    </tr>\n",
       "    <tr>\n",
       "      <td>2014-12</td>\n",
       "      <td>1.0</td>\n",
       "      <td>2120.0</td>\n",
       "      <td>93.260318</td>\n",
       "    </tr>\n",
       "    <tr>\n",
       "      <td>2015-01</td>\n",
       "      <td>1.0</td>\n",
       "      <td>1859.0</td>\n",
       "      <td>88.894141</td>\n",
       "    </tr>\n",
       "    <tr>\n",
       "      <td>2015-02</td>\n",
       "      <td>1.0</td>\n",
       "      <td>1863.0</td>\n",
       "      <td>113.301453</td>\n",
       "    </tr>\n",
       "    <tr>\n",
       "      <td>2015-03</td>\n",
       "      <td>1.0</td>\n",
       "      <td>10528.0</td>\n",
       "      <td>225.251891</td>\n",
       "    </tr>\n",
       "  </tbody>\n",
       "</table>\n",
       "</div>"
      ],
      "text/plain": [
       "         min      max        mean\n",
       "month                            \n",
       "2014-11  1.0   1940.0  115.823657\n",
       "2014-12  1.0   2120.0   93.260318\n",
       "2015-01  1.0   1859.0   88.894141\n",
       "2015-02  1.0   1863.0  113.301453\n",
       "2015-03  1.0  10528.0  225.251891"
      ]
     },
     "execution_count": 99,
     "metadata": {},
     "output_type": "execute_result"
    }
   ],
   "source": [
    "grouped.columns = grouped.columns.droplevel(level=0)\n",
    "grouped.rename(columns={\n",
    "    \"min\": \"min_duration\", \"max\": \"max_duration\", \"mean\": \"mean_duration\"\n",
    "})\n",
    "grouped.head()"
   ]
  },
  {
   "cell_type": "code",
   "execution_count": 102,
   "metadata": {},
   "outputs": [
    {
     "data": {
      "text/html": [
       "<div>\n",
       "<style scoped>\n",
       "    .dataframe tbody tr th:only-of-type {\n",
       "        vertical-align: middle;\n",
       "    }\n",
       "\n",
       "    .dataframe tbody tr th {\n",
       "        vertical-align: top;\n",
       "    }\n",
       "\n",
       "    .dataframe thead th {\n",
       "        text-align: right;\n",
       "    }\n",
       "</style>\n",
       "<table border=\"1\" class=\"dataframe\">\n",
       "  <thead>\n",
       "    <tr style=\"text-align: right;\">\n",
       "      <th></th>\n",
       "      <th>index</th>\n",
       "      <th>duration</th>\n",
       "    </tr>\n",
       "  </thead>\n",
       "  <tbody>\n",
       "    <tr>\n",
       "      <td>count</td>\n",
       "      <td>830.000000</td>\n",
       "      <td>830.000000</td>\n",
       "    </tr>\n",
       "    <tr>\n",
       "      <td>mean</td>\n",
       "      <td>414.500000</td>\n",
       "      <td>117.804036</td>\n",
       "    </tr>\n",
       "    <tr>\n",
       "      <td>std</td>\n",
       "      <td>239.744656</td>\n",
       "      <td>444.129560</td>\n",
       "    </tr>\n",
       "    <tr>\n",
       "      <td>min</td>\n",
       "      <td>0.000000</td>\n",
       "      <td>1.000000</td>\n",
       "    </tr>\n",
       "    <tr>\n",
       "      <td>25%</td>\n",
       "      <td>207.250000</td>\n",
       "      <td>1.000000</td>\n",
       "    </tr>\n",
       "    <tr>\n",
       "      <td>50%</td>\n",
       "      <td>414.500000</td>\n",
       "      <td>24.500000</td>\n",
       "    </tr>\n",
       "    <tr>\n",
       "      <td>75%</td>\n",
       "      <td>621.750000</td>\n",
       "      <td>55.000000</td>\n",
       "    </tr>\n",
       "    <tr>\n",
       "      <td>max</td>\n",
       "      <td>829.000000</td>\n",
       "      <td>10528.000000</td>\n",
       "    </tr>\n",
       "  </tbody>\n",
       "</table>\n",
       "</div>"
      ],
      "text/plain": [
       "            index      duration\n",
       "count  830.000000    830.000000\n",
       "mean   414.500000    117.804036\n",
       "std    239.744656    444.129560\n",
       "min      0.000000      1.000000\n",
       "25%    207.250000      1.000000\n",
       "50%    414.500000     24.500000\n",
       "75%    621.750000     55.000000\n",
       "max    829.000000  10528.000000"
      ]
     },
     "execution_count": 102,
     "metadata": {},
     "output_type": "execute_result"
    }
   ],
   "source": [
    "data.describe()"
   ]
  },
  {
   "cell_type": "markdown",
   "metadata": {},
   "source": [
    "Creating bins"
   ]
  },
  {
   "cell_type": "code",
   "execution_count": 104,
   "metadata": {},
   "outputs": [
    {
     "data": {
      "text/html": [
       "<div>\n",
       "<style scoped>\n",
       "    .dataframe tbody tr th:only-of-type {\n",
       "        vertical-align: middle;\n",
       "    }\n",
       "\n",
       "    .dataframe tbody tr th {\n",
       "        vertical-align: top;\n",
       "    }\n",
       "\n",
       "    .dataframe thead th {\n",
       "        text-align: right;\n",
       "    }\n",
       "</style>\n",
       "<table border=\"1\" class=\"dataframe\">\n",
       "  <thead>\n",
       "    <tr style=\"text-align: right;\">\n",
       "      <th></th>\n",
       "      <th>index</th>\n",
       "      <th>date</th>\n",
       "      <th>duration</th>\n",
       "      <th>item</th>\n",
       "      <th>month</th>\n",
       "      <th>network</th>\n",
       "      <th>network_type</th>\n",
       "      <th>categories</th>\n",
       "    </tr>\n",
       "  </thead>\n",
       "  <tbody>\n",
       "    <tr>\n",
       "      <td>0</td>\n",
       "      <td>0</td>\n",
       "      <td>2014-10-15 06:58:00</td>\n",
       "      <td>34.429</td>\n",
       "      <td>data</td>\n",
       "      <td>2014-11</td>\n",
       "      <td>data</td>\n",
       "      <td>data</td>\n",
       "      <td>low</td>\n",
       "    </tr>\n",
       "    <tr>\n",
       "      <td>1</td>\n",
       "      <td>1</td>\n",
       "      <td>2014-10-15 06:58:00</td>\n",
       "      <td>13.000</td>\n",
       "      <td>call</td>\n",
       "      <td>2014-11</td>\n",
       "      <td>Vodafone</td>\n",
       "      <td>mobile</td>\n",
       "      <td>low</td>\n",
       "    </tr>\n",
       "    <tr>\n",
       "      <td>2</td>\n",
       "      <td>2</td>\n",
       "      <td>2014-10-15 14:46:00</td>\n",
       "      <td>23.000</td>\n",
       "      <td>call</td>\n",
       "      <td>2014-11</td>\n",
       "      <td>Meteor</td>\n",
       "      <td>mobile</td>\n",
       "      <td>low</td>\n",
       "    </tr>\n",
       "    <tr>\n",
       "      <td>3</td>\n",
       "      <td>3</td>\n",
       "      <td>2014-10-15 14:48:00</td>\n",
       "      <td>4.000</td>\n",
       "      <td>call</td>\n",
       "      <td>2014-11</td>\n",
       "      <td>Tesco</td>\n",
       "      <td>mobile</td>\n",
       "      <td>low</td>\n",
       "    </tr>\n",
       "    <tr>\n",
       "      <td>4</td>\n",
       "      <td>4</td>\n",
       "      <td>2014-10-15 17:27:00</td>\n",
       "      <td>4.000</td>\n",
       "      <td>call</td>\n",
       "      <td>2014-11</td>\n",
       "      <td>Tesco</td>\n",
       "      <td>mobile</td>\n",
       "      <td>low</td>\n",
       "    </tr>\n",
       "    <tr>\n",
       "      <td>...</td>\n",
       "      <td>...</td>\n",
       "      <td>...</td>\n",
       "      <td>...</td>\n",
       "      <td>...</td>\n",
       "      <td>...</td>\n",
       "      <td>...</td>\n",
       "      <td>...</td>\n",
       "      <td>...</td>\n",
       "    </tr>\n",
       "    <tr>\n",
       "      <td>825</td>\n",
       "      <td>825</td>\n",
       "      <td>2015-03-13 00:38:00</td>\n",
       "      <td>1.000</td>\n",
       "      <td>sms</td>\n",
       "      <td>2015-03</td>\n",
       "      <td>world</td>\n",
       "      <td>world</td>\n",
       "      <td>low</td>\n",
       "    </tr>\n",
       "    <tr>\n",
       "      <td>826</td>\n",
       "      <td>826</td>\n",
       "      <td>2015-03-13 00:39:00</td>\n",
       "      <td>1.000</td>\n",
       "      <td>sms</td>\n",
       "      <td>2015-03</td>\n",
       "      <td>Vodafone</td>\n",
       "      <td>mobile</td>\n",
       "      <td>low</td>\n",
       "    </tr>\n",
       "    <tr>\n",
       "      <td>827</td>\n",
       "      <td>827</td>\n",
       "      <td>2015-03-13 06:58:00</td>\n",
       "      <td>34.429</td>\n",
       "      <td>data</td>\n",
       "      <td>2015-03</td>\n",
       "      <td>data</td>\n",
       "      <td>data</td>\n",
       "      <td>low</td>\n",
       "    </tr>\n",
       "    <tr>\n",
       "      <td>828</td>\n",
       "      <td>828</td>\n",
       "      <td>2015-03-14 00:13:00</td>\n",
       "      <td>1.000</td>\n",
       "      <td>sms</td>\n",
       "      <td>2015-03</td>\n",
       "      <td>world</td>\n",
       "      <td>world</td>\n",
       "      <td>low</td>\n",
       "    </tr>\n",
       "    <tr>\n",
       "      <td>829</td>\n",
       "      <td>829</td>\n",
       "      <td>2015-03-14 00:16:00</td>\n",
       "      <td>1.000</td>\n",
       "      <td>sms</td>\n",
       "      <td>2015-03</td>\n",
       "      <td>world</td>\n",
       "      <td>world</td>\n",
       "      <td>low</td>\n",
       "    </tr>\n",
       "  </tbody>\n",
       "</table>\n",
       "<p>830 rows × 8 columns</p>\n",
       "</div>"
      ],
      "text/plain": [
       "     index                date  duration  item    month   network  \\\n",
       "0        0 2014-10-15 06:58:00    34.429  data  2014-11      data   \n",
       "1        1 2014-10-15 06:58:00    13.000  call  2014-11  Vodafone   \n",
       "2        2 2014-10-15 14:46:00    23.000  call  2014-11    Meteor   \n",
       "3        3 2014-10-15 14:48:00     4.000  call  2014-11     Tesco   \n",
       "4        4 2014-10-15 17:27:00     4.000  call  2014-11     Tesco   \n",
       "..     ...                 ...       ...   ...      ...       ...   \n",
       "825    825 2015-03-13 00:38:00     1.000   sms  2015-03     world   \n",
       "826    826 2015-03-13 00:39:00     1.000   sms  2015-03  Vodafone   \n",
       "827    827 2015-03-13 06:58:00    34.429  data  2015-03      data   \n",
       "828    828 2015-03-14 00:13:00     1.000   sms  2015-03     world   \n",
       "829    829 2015-03-14 00:16:00     1.000   sms  2015-03     world   \n",
       "\n",
       "    network_type categories  \n",
       "0           data        low  \n",
       "1         mobile        low  \n",
       "2         mobile        low  \n",
       "3         mobile        low  \n",
       "4         mobile        low  \n",
       "..           ...        ...  \n",
       "825        world        low  \n",
       "826       mobile        low  \n",
       "827         data        low  \n",
       "828        world        low  \n",
       "829        world        low  \n",
       "\n",
       "[830 rows x 8 columns]"
      ]
     },
     "execution_count": 104,
     "metadata": {},
     "output_type": "execute_result"
    }
   ],
   "source": [
    "bins=[0,3000,6000,9000,12000]\n",
    "group_names=['low','medium','long','very long']\n",
    "data['categories']=pd.cut(data['duration'],bins,labels=group_names)"
   ]
  },
  {
   "cell_type": "markdown",
   "metadata": {},
   "source": [
    "# Split-Apply-Combine"
   ]
  },
  {
   "cell_type": "code",
   "execution_count": 107,
   "metadata": {},
   "outputs": [
    {
     "name": "stdout",
     "output_type": "stream",
     "text": [
      "     index                date   duration  item    month    network  \\\n",
      "816    816 2015-03-04 12:29:00  10528.000  call  2015-03   landline   \n",
      "742    742 2015-02-17 19:09:00   2328.000  call  2015-03      Three   \n",
      "398    398 2014-12-17 18:08:00   1859.000  call  2015-01   Vodafone   \n",
      "105    105 2014-10-31 13:27:00   1234.000  call  2014-11      Tesco   \n",
      "632    632 2015-01-21 19:38:00   1090.000  call  2015-02     Meteor   \n",
      "298    298 2014-11-25 18:47:00    174.000  call  2014-12  voicemail   \n",
      "397    397 2014-12-17 06:58:00     34.429  data  2015-01       data   \n",
      "\n",
      "    network_type categories  within_network_duration  \n",
      "816     landline  very long                        1  \n",
      "742       mobile        low                        1  \n",
      "398       mobile        low                        1  \n",
      "105       mobile        low                        1  \n",
      "632       mobile        low                        1  \n",
      "298    voicemail        low                        1  \n",
      "397         data        low                        1  \n"
     ]
    }
   ],
   "source": [
    "def ranker(df):\n",
    "    ###Assigns a rank to each entry based on duration\n",
    "    ###Assuming the data is DESC sorted.\n",
    "    df['within_network_duration']=np.arange(len(df))+1\n",
    "    return df\n",
    "data.sort_values('duration',ascending=False,inplace=True)\n",
    "data=data.groupby(['network']).apply(ranker)\n",
    "print(data[data.within_network_duration==1].head(7))"
   ]
  }
 ],
 "metadata": {
  "kernelspec": {
   "display_name": "Python 3",
   "language": "python",
   "name": "python3"
  },
  "language_info": {
   "codemirror_mode": {
    "name": "ipython",
    "version": 3
   },
   "file_extension": ".py",
   "mimetype": "text/x-python",
   "name": "python",
   "nbconvert_exporter": "python",
   "pygments_lexer": "ipython3",
   "version": "3.7.3"
  }
 },
 "nbformat": 4,
 "nbformat_minor": 2
}
