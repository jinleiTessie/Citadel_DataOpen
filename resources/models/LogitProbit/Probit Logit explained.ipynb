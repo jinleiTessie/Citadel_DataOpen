{
 "cells": [
  {
   "cell_type": "code",
   "execution_count": 3,
   "metadata": {},
   "outputs": [],
   "source": [
    "import statsmodels.discrete as sd\n",
    "import statsmodels.api as sm\n",
    "import pandas as pd\n",
    "import numpy as np\n",
    "import seaborn as sns\n",
    "from sklearn import datasets\n",
    "iris = datasets.load_iris()"
   ]
  },
  {
   "cell_type": "markdown",
   "metadata": {},
   "source": [
    "Regression where underlying variable has only 2 possible values = Binary classification.\n",
    "Same case as logistic regression, MLE estimator.\n",
    "\n",
    "        $P(Y=1|X) = \\phi(X^{T} \\beta)$; $\\phi$ cdf\n",
    "        \n",
    "        $Y^{*} = X^{T} \\beta + \\epsilon$, $Y = 1_{Y*>0}$\n",
    "\n",
    "Assumption: iid (normally) error terms.\n",
    "\n",
    "McFaddens pseudo R²: $1 - \\frac{ln \\hat{L} (M_{Full})}{ln \\hat{L} (M_{Intercept})}$ likelihood of model of interest/the one where all coeffs except intercept one are restricted to 0.\n",
    "R² of McKelvey and Zaloinas, AIC,...\n",
    "        \n",
    "If many observations per cell, Berkson's minimum $\\chi^{2}$ method.\n",
    "\n",
    "http://blog.yhat.com/posts/logistic-regression-and-python.html"
   ]
  },
  {
   "cell_type": "code",
   "execution_count": 10,
   "metadata": {},
   "outputs": [],
   "source": [
    "df_iris = pd.DataFrame({'sepal length': iris.data[:,0], 'sepal width': iris.data[:,1], 'petal length': iris.data[:,2], 'petal width': iris.data[:,3], 'target': iris.target})\n",
    "df_iris['target binary'] = np.where(df_iris['target']>0, 1, 0)\n",
    "spector_data = sm.datasets.spector.load_pandas()\n",
    "spector_data.exog = sm.tools.add_constant(spector_data.exog)\n",
    "\n",
    "#Endog: our binary variable, exog explaining factors.\n",
    "#missing: none by default, can take drop\n",
    "#can replace fit by fit_regularized"
   ]
  },
  {
   "cell_type": "code",
   "execution_count": 49,
   "metadata": {},
   "outputs": [
    {
     "name": "stdout",
     "output_type": "stream",
     "text": [
      "Optimization terminated successfully.\n",
      "         Current function value: 0.402801\n",
      "         Iterations 7\n",
      "                           Logit Regression Results                           \n",
      "==============================================================================\n",
      "Dep. Variable:                  GRADE   No. Observations:                   32\n",
      "Model:                          Logit   Df Residuals:                       28\n",
      "Method:                           MLE   Df Model:                            3\n",
      "Date:                Wed, 18 Sep 2019   Pseudo R-squ.:                  0.3740\n",
      "Time:                        15:55:10   Log-Likelihood:                -12.890\n",
      "converged:                       True   LL-Null:                       -20.592\n",
      "Covariance Type:            nonrobust   LLR p-value:                  0.001502\n",
      "==============================================================================\n",
      "                 coef    std err          z      P>|z|      [0.025      0.975]\n",
      "------------------------------------------------------------------------------\n",
      "const        -13.0213      4.931     -2.641      0.008     -22.687      -3.356\n",
      "GPA            2.8261      1.263      2.238      0.025       0.351       5.301\n",
      "TUCE           0.0952      0.142      0.672      0.501      -0.182       0.373\n",
      "PSI            2.3787      1.065      2.234      0.025       0.292       4.465\n",
      "==============================================================================\n",
      "\n",
      "Confidence intervals                0         1\n",
      "const -22.686565 -3.356129\n",
      "GPA     0.350794  5.301432\n",
      "TUCE   -0.182283  0.372599\n",
      "PSI     0.292180  4.465195\n",
      "\n",
      "Odd ratios\n",
      "               2.5%       97.5%  Odd Ratio\n",
      "const  1.403945e-10    0.034870   0.000002\n",
      "GPA    1.420194e+00  200.623821  16.879715\n",
      "TUCE   8.333651e-01    1.451502   1.099832\n",
      "PSI    1.339344e+00   86.938003  10.790732\n"
     ]
    }
   ],
   "source": [
    "# Logit Model\n",
    "logit_mod = sd.discrete_model.Logit(spector_data.endog, spector_data.exog, missing='none')\n",
    "logit_res = logit_mod.fit()\n",
    "print(logit_res.summary())\n",
    "\n",
    "print(\"\\nConfidence intervals\", logit_res.conf_int())\n",
    "\n",
    "print(\"\\nOdd ratios\")\n",
    "\n",
    "params = logit_res.params\n",
    "conf = logit_res.conf_int()\n",
    "conf['Odd Ratio'] = params\n",
    "conf.columns = ['2.5%', '97.5%', 'Odd Ratio']\n",
    "print(np.exp(conf))\n",
    "\n",
    "l_pred = logit_res.predict(spector_data.exog)\n",
    "#print(l_pred)"
   ]
  },
  {
   "cell_type": "code",
   "execution_count": 53,
   "metadata": {
    "scrolled": true
   },
   "outputs": [
    {
     "name": "stdout",
     "output_type": "stream",
     "text": [
      "Optimization terminated successfully.\n",
      "         Current function value: 0.400588\n",
      "         Iterations 6\n",
      "                          Probit Regression Results                           \n",
      "==============================================================================\n",
      "Dep. Variable:                  GRADE   No. Observations:                   32\n",
      "Model:                         Probit   Df Residuals:                       28\n",
      "Method:                           MLE   Df Model:                            3\n",
      "Date:                Wed, 18 Sep 2019   Pseudo R-squ.:                  0.3775\n",
      "Time:                        15:57:27   Log-Likelihood:                -12.819\n",
      "converged:                       True   LL-Null:                       -20.592\n",
      "Covariance Type:            nonrobust   LLR p-value:                  0.001405\n",
      "==============================================================================\n",
      "                 coef    std err          z      P>|z|      [0.025      0.975]\n",
      "------------------------------------------------------------------------------\n",
      "const         -7.4523      2.542     -2.931      0.003     -12.435      -2.469\n",
      "GPA            1.6258      0.694      2.343      0.019       0.266       2.986\n",
      "TUCE           0.0517      0.084      0.617      0.537      -0.113       0.216\n",
      "PSI            1.4263      0.595      2.397      0.017       0.260       2.593\n",
      "==============================================================================\n",
      "\n",
      "Confidence intervals                0         1\n",
      "const -12.435474 -2.469165\n",
      "GPA     0.265825  2.985795\n",
      "TUCE   -0.112693  0.216151\n",
      "PSI     0.260079  2.592585\n",
      "\n",
      "Odd ratios\n",
      "           2.5%      97.5%  Odd Ratio\n",
      "const  0.000004   0.084655   0.000580\n",
      "GPA    1.304507  19.802233   5.082534\n",
      "TUCE   0.893425   1.241290   1.053090\n",
      "PSI    1.297033  13.364276   4.163401\n",
      "0     0.018171\n",
      "1     0.053080\n",
      "2     0.189926\n",
      "3     0.018571\n",
      "4     0.554575\n",
      "5     0.027233\n",
      "6     0.018503\n",
      "7     0.044571\n",
      "8     0.108808\n",
      "9     0.663121\n",
      "10    0.016102\n",
      "11    0.193557\n",
      "12    0.323328\n",
      "13    0.195183\n",
      "14    0.356341\n",
      "15    0.021965\n",
      "16    0.045694\n",
      "17    0.030851\n",
      "18    0.593402\n",
      "19    0.657186\n",
      "20    0.061929\n",
      "21    0.904539\n",
      "22    0.273191\n",
      "23    0.847450\n",
      "24    0.834195\n",
      "25    0.488726\n",
      "26    0.642407\n",
      "27    0.328673\n",
      "28    0.840017\n",
      "29    0.952245\n",
      "30    0.539959\n",
      "31    0.123544\n",
      "dtype: float64\n"
     ]
    }
   ],
   "source": [
    "# Probit Model\n",
    "probit_mod = sd.discrete_model.Probit(spector_data.endog, spector_data.exog, missing='none')\n",
    "probit_res = probit_mod.fit()\n",
    "print(probit_res.summary())\n",
    "\n",
    "print(\"\\nConfidence intervals\", probit_res.conf_int())\n",
    "\n",
    "print(\"\\nOdd ratios\")\n",
    "params = probit_res.params\n",
    "conf = probit_res.conf_int()\n",
    "conf['Odd Ratio'] = params\n",
    "conf.columns = ['2.5%', '97.5%', 'Odd Ratio']\n",
    "print(np.exp(conf))\n",
    "\n",
    "l_pred = probit_res.predict(spector_data.exog)\n",
    "#print(l_pred)"
   ]
  },
  {
   "cell_type": "code",
   "execution_count": 45,
   "metadata": {},
   "outputs": [
    {
     "name": "stdout",
     "output_type": "stream",
     "text": [
      "           2.5%      97.5%  Odd Ratio\n",
      "const  0.000004   0.084655   0.000580\n",
      "GPA    1.304507  19.802233   5.082534\n",
      "TUCE   0.893425   1.241290   1.053090\n",
      "PSI    1.297033  13.364276   4.163401\n"
     ]
    }
   ],
   "source": []
  }
 ],
 "metadata": {
  "kernelspec": {
   "display_name": "Python 3",
   "language": "python",
   "name": "python3"
  },
  "language_info": {
   "codemirror_mode": {
    "name": "ipython",
    "version": 3
   },
   "file_extension": ".py",
   "mimetype": "text/x-python",
   "name": "python",
   "nbconvert_exporter": "python",
   "pygments_lexer": "ipython3",
   "version": "3.7.1"
  }
 },
 "nbformat": 4,
 "nbformat_minor": 2
}
