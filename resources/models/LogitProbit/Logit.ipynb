{
 "cells": [
  {
   "cell_type": "code",
   "execution_count": 1,
   "metadata": {},
   "outputs": [
    {
     "name": "stdout",
     "output_type": "stream",
     "text": [
      "Optimization terminated successfully.\n",
      "         Current function value: 0.402801\n",
      "         Iterations 7\n",
      "                           Logit Regression Results                           \n",
      "==============================================================================\n",
      "Dep. Variable:                  GRADE   No. Observations:                   32\n",
      "Model:                          Logit   Df Residuals:                       28\n",
      "Method:                           MLE   Df Model:                            3\n",
      "Date:                Thu, 19 Sep 2019   Pseudo R-squ.:                  0.3740\n",
      "Time:                        19:12:42   Log-Likelihood:                -12.890\n",
      "converged:                       True   LL-Null:                       -20.592\n",
      "Covariance Type:            nonrobust   LLR p-value:                  0.001502\n",
      "==============================================================================\n",
      "                 coef    std err          z      P>|z|      [0.025      0.975]\n",
      "------------------------------------------------------------------------------\n",
      "const        -13.0213      4.931     -2.641      0.008     -22.687      -3.356\n",
      "GPA            2.8261      1.263      2.238      0.025       0.351       5.301\n",
      "TUCE           0.0952      0.142      0.672      0.501      -0.182       0.373\n",
      "PSI            2.3787      1.065      2.234      0.025       0.292       4.465\n",
      "==============================================================================\n",
      "\n",
      "Confidence intervals                0         1\n",
      "const -22.686565 -3.356129\n",
      "GPA     0.350794  5.301432\n",
      "TUCE   -0.182283  0.372599\n",
      "PSI     0.292180  4.465195\n",
      "\n",
      "Odd ratios\n",
      "               2.5%       97.5%  Odd Ratio\n",
      "const  1.403945e-10    0.034870   0.000002\n",
      "GPA    1.420194e+00  200.623821  16.879715\n",
      "TUCE   8.333651e-01    1.451502   1.099832\n",
      "PSI    1.339344e+00   86.938003  10.790732\n"
     ]
    },
    {
     "name": "stderr",
     "output_type": "stream",
     "text": [
      "C:\\Users\\Langlois\\Anaconda3\\lib\\site-packages\\numpy\\core\\fromnumeric.py:2495: FutureWarning: Method .ptp is deprecated and will be removed in a future version. Use numpy.ptp instead.\n",
      "  return ptp(axis=axis, out=out, **kwargs)\n"
     ]
    }
   ],
   "source": [
    "import statsmodels.discrete as sd\n",
    "import statsmodels.api as sm\n",
    "import pandas as pd\n",
    "import numpy as np\n",
    "import seaborn as sns\n",
    "from sklearn import datasets\n",
    "iris = datasets.load_iris()\n",
    "\n",
    "df_iris = pd.DataFrame({'sepal length': iris.data[:,0], 'sepal width': iris.data[:,1], 'petal length': iris.data[:,2], 'petal width': iris.data[:,3], 'target': iris.target})\n",
    "df_iris['target binary'] = np.where(df_iris['target']>0, 1, 0)\n",
    "spector_data = sm.datasets.spector.load_pandas()\n",
    "spector_data.exog = sm.tools.add_constant(spector_data.exog)\n",
    "\n",
    "#Endog: our binary variable, exog explaining factors.\n",
    "#missing: none by default, can take drop\n",
    "#can replace fit by fit_regularized\n",
    "\n",
    "# Logit Model\n",
    "logit_mod = sd.discrete_model.Logit(spector_data.endog, spector_data.exog, missing='none')\n",
    "logit_res = logit_mod.fit()\n",
    "print(logit_res.summary())\n",
    "\n",
    "print(\"\\nConfidence intervals\", logit_res.conf_int())\n",
    "\n",
    "print(\"\\nOdd ratios\")\n",
    "\n",
    "params = logit_res.params\n",
    "conf = logit_res.conf_int()\n",
    "conf['Odd Ratio'] = params\n",
    "conf.columns = ['2.5%', '97.5%', 'Odd Ratio']\n",
    "print(np.exp(conf))\n",
    "\n",
    "l_pred = logit_res.predict(spector_data.exog)\n",
    "#print(l_pred)"
   ]
  }
 ],
 "metadata": {
  "kernelspec": {
   "display_name": "Python 3",
   "language": "python",
   "name": "python3"
  },
  "language_info": {
   "codemirror_mode": {
    "name": "ipython",
    "version": 3
   },
   "file_extension": ".py",
   "mimetype": "text/x-python",
   "name": "python",
   "nbconvert_exporter": "python",
   "pygments_lexer": "ipython3",
   "version": "3.7.1"
  }
 },
 "nbformat": 4,
 "nbformat_minor": 2
}
