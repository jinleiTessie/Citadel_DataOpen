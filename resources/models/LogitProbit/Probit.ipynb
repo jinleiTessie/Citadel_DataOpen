{
 "cells": [
  {
   "cell_type": "code",
   "execution_count": null,
   "metadata": {},
   "outputs": [],
   "source": [
    "import statsmodels.discrete as sd\n",
    "import statsmodels.api as sm\n",
    "import pandas as pd\n",
    "import numpy as np\n",
    "import seaborn as sns\n",
    "from sklearn import datasets\n",
    "iris = datasets.load_iris()\n",
    "\n",
    "df_iris = pd.DataFrame({'sepal length': iris.data[:,0], 'sepal width': iris.data[:,1], 'petal length': iris.data[:,2], 'petal width': iris.data[:,3], 'target': iris.target})\n",
    "df_iris['target binary'] = np.where(df_iris['target']>0, 1, 0)\n",
    "spector_data = sm.datasets.spector.load_pandas()\n",
    "spector_data.exog = sm.tools.add_constant(spector_data.exog)\n",
    "\n",
    "#Endog: our binary variable, exog explaining factors.\n",
    "#missing: none by default, can take drop\n",
    "#can replace fit by fit_regularized\n",
    "\n",
    "# Probit Model\n",
    "probit_mod = sd.discrete_model.Probit(spector_data.endog, spector_data.exog, missing='none')\n",
    "probit_res = probit_mod.fit()\n",
    "print(probit_res.summary())\n",
    "\n",
    "print(\"\\nConfidence intervals\", probit_res.conf_int())\n",
    "\n",
    "print(\"\\nOdd ratios\")\n",
    "params = probit_res.params\n",
    "conf = probit_res.conf_int()\n",
    "conf['Odd Ratio'] = params\n",
    "conf.columns = ['2.5%', '97.5%', 'Odd Ratio']\n",
    "print(np.exp(conf))\n",
    "\n",
    "l_pred = probit_res.predict(spector_data.exog)\n",
    "#print(l_pred)"
   ]
  }
 ],
 "metadata": {
  "kernelspec": {
   "display_name": "Python 3",
   "language": "python",
   "name": "python3"
  },
  "language_info": {
   "codemirror_mode": {
    "name": "ipython",
    "version": 3
   },
   "file_extension": ".py",
   "mimetype": "text/x-python",
   "name": "python",
   "nbconvert_exporter": "python",
   "pygments_lexer": "ipython3",
   "version": "3.7.1"
  }
 },
 "nbformat": 4,
 "nbformat_minor": 2
}
